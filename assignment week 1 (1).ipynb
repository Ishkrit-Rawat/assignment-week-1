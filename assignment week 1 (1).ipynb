{
 "cells": [
  {
   "cell_type": "raw",
   "id": "dbabfa59-72d9-46c2-8834-cfb1b2321320",
   "metadata": {},
   "source": [
    "a=\"ishkrit\""
   ]
  },
  {
   "cell_type": "code",
   "execution_count": 3,
   "id": "4f9cf9c7-012f-4798-835e-9a61b20aafc5",
   "metadata": {},
   "outputs": [
    {
     "data": {
      "text/plain": [
       "str"
      ]
     },
     "execution_count": 3,
     "metadata": {},
     "output_type": "execute_result"
    }
   ],
   "source": [
    "type(a)"
   ]
  },
  {
   "cell_type": "code",
   "execution_count": 6,
   "id": "3b1a4c3b-d546-4e77-9495-38a24e183d90",
   "metadata": {},
   "outputs": [],
   "source": [
    "b=[2,3,4,65,7,'ishkrit',5+7j,4.57,'true']"
   ]
  },
  {
   "cell_type": "code",
   "execution_count": 7,
   "id": "99bceeff-8ca4-4e0c-8029-ac0c48eeae77",
   "metadata": {},
   "outputs": [
    {
     "data": {
      "text/plain": [
       "list"
      ]
     },
     "execution_count": 7,
     "metadata": {},
     "output_type": "execute_result"
    }
   ],
   "source": [
    "type(b)"
   ]
  },
  {
   "cell_type": "code",
   "execution_count": 8,
   "id": "12aa86fa-3e84-41be-8634-6e976a163375",
   "metadata": {},
   "outputs": [],
   "source": [
    "c=99.9999"
   ]
  },
  {
   "cell_type": "code",
   "execution_count": 9,
   "id": "e616197c-4495-4c69-9ee9-f2ef85f4ff4e",
   "metadata": {},
   "outputs": [
    {
     "data": {
      "text/plain": [
       "float"
      ]
     },
     "execution_count": 9,
     "metadata": {},
     "output_type": "execute_result"
    }
   ],
   "source": [
    "type(c)"
   ]
  },
  {
   "cell_type": "code",
   "execution_count": 12,
   "id": "f1d73c09-80b7-4a6c-a0bc-3f0a088c1d34",
   "metadata": {},
   "outputs": [],
   "source": [
    "d=(6,6,7,\"true\",5+4j,'ishkrit',35.555)"
   ]
  },
  {
   "cell_type": "code",
   "execution_count": 13,
   "id": "d66ea58c-e528-432a-bbcf-84850e4f8814",
   "metadata": {},
   "outputs": [
    {
     "data": {
      "text/plain": [
       "tuple"
      ]
     },
     "execution_count": 13,
     "metadata": {},
     "output_type": "execute_result"
    }
   ],
   "source": [
    "type(d)"
   ]
  },
  {
   "cell_type": "code",
   "execution_count": null,
   "id": "14f7eb9a-4665-41ae-8cc5-f42269677a03",
   "metadata": {},
   "outputs": [],
   "source": [
    "Q.2 Given are some following variables containing data"
   ]
  },
  {
   "cell_type": "code",
   "execution_count": 16,
   "id": "c82e4dfc-93c5-4c25-88b1-1d980b7a4d4f",
   "metadata": {},
   "outputs": [],
   "source": [
    "var1='ishu'"
   ]
  },
  {
   "cell_type": "code",
   "execution_count": 17,
   "id": "ec640118-5316-4abd-859f-4782b28e3925",
   "metadata": {},
   "outputs": [
    {
     "data": {
      "text/plain": [
       "str"
      ]
     },
     "execution_count": 17,
     "metadata": {},
     "output_type": "execute_result"
    }
   ],
   "source": [
    "type(var1)"
   ]
  },
  {
   "cell_type": "code",
   "execution_count": 18,
   "id": "cbe7d907-a669-44b1-87fa-7c6602718afe",
   "metadata": {},
   "outputs": [],
   "source": [
    "var2='[ds,ml,python]'"
   ]
  },
  {
   "cell_type": "code",
   "execution_count": 19,
   "id": "da0f5f64-7b12-41a9-a502-ff5eb43a0fb3",
   "metadata": {},
   "outputs": [
    {
     "data": {
      "text/plain": [
       "str"
      ]
     },
     "execution_count": 19,
     "metadata": {},
     "output_type": "execute_result"
    }
   ],
   "source": [
    "type(var2)"
   ]
  },
  {
   "cell_type": "code",
   "execution_count": 20,
   "id": "1e50a0cd-4080-4b56-83fe-0e203dccc97e",
   "metadata": {},
   "outputs": [],
   "source": [
    "var3=['ds','ml','python']"
   ]
  },
  {
   "cell_type": "code",
   "execution_count": 21,
   "id": "fbe617ee-1dda-48a6-9efe-ac6d5df7d8c7",
   "metadata": {},
   "outputs": [
    {
     "data": {
      "text/plain": [
       "list"
      ]
     },
     "execution_count": 21,
     "metadata": {},
     "output_type": "execute_result"
    }
   ],
   "source": [
    "type(var3)"
   ]
  },
  {
   "cell_type": "code",
   "execution_count": 22,
   "id": "2474402d-97d1-41b3-bc25-0a7c850b6904",
   "metadata": {},
   "outputs": [],
   "source": [
    "var4=1."
   ]
  },
  {
   "cell_type": "code",
   "execution_count": 23,
   "id": "95df599b-b0dd-450a-8d58-3eeb01dcd48d",
   "metadata": {},
   "outputs": [
    {
     "data": {
      "text/plain": [
       "float"
      ]
     },
     "execution_count": 23,
     "metadata": {},
     "output_type": "execute_result"
    }
   ],
   "source": [
    "type(var4)"
   ]
  },
  {
   "cell_type": "code",
   "execution_count": null,
   "id": "cb548f2c-53ba-4916-a0f0-df2fcd7fc1c3",
   "metadata": {},
   "outputs": [],
   "source": [
    "Q.3 Explain the use of the foolowing operators using an example"
   ]
  },
  {
   "cell_type": "code",
   "execution_count": 30,
   "id": "cdd88d4d-faf1-4826-81b2-a29418c5c789",
   "metadata": {},
   "outputs": [],
   "source": [
    "y=4"
   ]
  },
  {
   "cell_type": "code",
   "execution_count": 31,
   "id": "3fab57fd-4fc3-45f3-89c1-44d7db7fef8a",
   "metadata": {},
   "outputs": [],
   "source": [
    "x=45"
   ]
  },
  {
   "cell_type": "code",
   "execution_count": 42,
   "id": "47b1e7f3-3d0b-4fa3-9423-b25482cac150",
   "metadata": {},
   "outputs": [
    {
     "data": {
      "text/plain": [
       "11.25"
      ]
     },
     "execution_count": 42,
     "metadata": {},
     "output_type": "execute_result"
    }
   ],
   "source": [
    "x/y"
   ]
  },
  {
   "cell_type": "code",
   "execution_count": 37,
   "id": "9eacae41-892b-4591-b0c0-bf921c31e839",
   "metadata": {},
   "outputs": [
    {
     "data": {
      "text/plain": [
       "4"
      ]
     },
     "execution_count": 37,
     "metadata": {},
     "output_type": "execute_result"
    }
   ],
   "source": [
    "y%x"
   ]
  },
  {
   "cell_type": "code",
   "execution_count": 39,
   "id": "fa69b1ad-3047-498e-a00b-a75128cf59b4",
   "metadata": {},
   "outputs": [
    {
     "data": {
      "text/plain": [
       "11"
      ]
     },
     "execution_count": 39,
     "metadata": {},
     "output_type": "execute_result"
    }
   ],
   "source": [
    "x//y"
   ]
  },
  {
   "cell_type": "code",
   "execution_count": 41,
   "id": "1f3f0ebf-b044-484f-b529-59601c15b76c",
   "metadata": {},
   "outputs": [
    {
     "data": {
      "text/plain": [
       "4100625"
      ]
     },
     "execution_count": 41,
     "metadata": {},
     "output_type": "execute_result"
    }
   ],
   "source": [
    "x**y"
   ]
  },
  {
   "cell_type": "code",
   "execution_count": null,
   "id": "69f84277-661a-48d8-9602-4e16fba5eb05",
   "metadata": {},
   "outputs": [],
   "source": [
    "Q.4"
   ]
  },
  {
   "cell_type": "code",
   "execution_count": 46,
   "id": "353b3631-91b6-48b6-9b53-040c1e307ac4",
   "metadata": {},
   "outputs": [],
   "source": [
    "l=[2,4,6,55,67.888,'ishu','true',5+5j,'pwskills','subh']"
   ]
  },
  {
   "cell_type": "code",
   "execution_count": 48,
   "id": "f79bb2ab-3362-4b0c-9a95-1a936e1c5e25",
   "metadata": {},
   "outputs": [
    {
     "name": "stdout",
     "output_type": "stream",
     "text": [
      "<class 'int'>\n",
      "<class 'int'>\n",
      "<class 'int'>\n",
      "<class 'int'>\n",
      "<class 'float'>\n",
      "<class 'str'>\n",
      "<class 'str'>\n",
      "<class 'complex'>\n",
      "<class 'str'>\n",
      "<class 'str'>\n"
     ]
    }
   ],
   "source": [
    "for i in l:\n",
    "    print(type(i))"
   ]
  },
  {
   "cell_type": "code",
   "execution_count": null,
   "id": "0d0c3e2f-250b-4f62-92c6-6174fa710287",
   "metadata": {},
   "outputs": [],
   "source": [
    "Q.5"
   ]
  },
  {
   "cell_type": "code",
   "execution_count": 1,
   "id": "89e31e22-ed18-42de-9aec-0a2ebe4733a1",
   "metadata": {},
   "outputs": [
    {
     "name": "stdout",
     "output_type": "stream",
     "text": [
      "1\n",
      "2\n",
      "3\n",
      "4\n",
      "5\n",
      "6\n",
      "7\n"
     ]
    }
   ],
   "source": [
    "A = 8\n",
    "B = 1\n",
    "while B < A :\n",
    "    print(B)\n",
    "    B = B+1\n"
   ]
  },
  {
   "cell_type": "code",
   "execution_count": null,
   "id": "96eec40a-04f3-4275-bbbc-6b86fca4aac5",
   "metadata": {},
   "outputs": [],
   "source": [
    "Q.6"
   ]
  },
  {
   "cell_type": "code",
   "execution_count": null,
   "id": "a14e40c4-eb31-4b11-9193-daafd34b4434",
   "metadata": {},
   "outputs": [],
   "source": [
    "l=[3,45,6,12,77,34,33,27,76,99,22,57,15,66,18,55,39,11,69,58,44,24,78,87,65]\n",
    "for i in l :\n",
    "    print(type(i))\n",
    "    if \n",
    "    "
   ]
  },
  {
   "cell_type": "code",
   "execution_count": null,
   "id": "9b552985-cd64-4118-92c7-155f3b103fb2",
   "metadata": {},
   "outputs": [],
   "source": []
  }
 ],
 "metadata": {
  "kernelspec": {
   "display_name": "Python 3 (ipykernel)",
   "language": "python",
   "name": "python3"
  },
  "language_info": {
   "codemirror_mode": {
    "name": "ipython",
    "version": 3
   },
   "file_extension": ".py",
   "mimetype": "text/x-python",
   "name": "python",
   "nbconvert_exporter": "python",
   "pygments_lexer": "ipython3",
   "version": "3.10.8"
  }
 },
 "nbformat": 4,
 "nbformat_minor": 5
}
